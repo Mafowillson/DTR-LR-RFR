{
 "cells": [
  {
   "cell_type": "code",
   "execution_count": 1,
   "id": "592a2a4d",
   "metadata": {},
   "outputs": [
    {
     "name": "stdout",
     "output_type": "stream",
     "text": [
      "[0.00000000e+00 2.38095238e-02 3.21428571e-01 5.71428571e-01\n",
      " 1.28571429e+00 1.44047619e+00 2.28571429e+00 2.33333333e+00\n",
      " 7.46666667e+00 1.97031746e+01 2.38095238e+01 7.25623583e+01]\n",
      "[0.00000000e+00 4.76190476e-02 3.69047619e-01 9.40476190e-01\n",
      " 2.22619048e+00 3.66666667e+00 5.95238095e+00 8.28571429e+00\n",
      " 1.57523810e+01 5.51587302e+01 7.89682540e+01 1.51530612e+02]\n",
      "80.48269812975695 %\n",
      "RMSE: 5.2319\n"
     ]
    }
   ],
   "source": [
    "import pandas as pd\n",
    "import numpy as np\n",
    "from sklearn.model_selection import train_test_split\n",
    "from sklearn.metrics import root_mean_squared_error\n",
    "from sklearn.tree import DecisionTreeRegressor\n",
    "from sklearn.preprocessing import StandardScaler\n",
    "\n",
    "# Create dataset\n",
    "dataset_dict = {\n",
    "    'Outlook': ['sunny', 'sunny', 'overcast', 'rain', 'rain', 'rain', 'overcast', 'sunny', 'sunny', 'rain', 'sunny', 'overcast', 'overcast', 'rain', 'sunny', 'overcast', 'rain', 'sunny', 'sunny', 'rain', 'overcast', 'rain', 'sunny', 'overcast', 'sunny', 'overcast', 'rain', 'overcast'],\n",
    "    'Temperature': [85.0, 80.0, 83.0, 70.0, 68.0, 65.0, 64.0, 72.0, 69.0, 75.0, 75.0, 72.0, 81.0, 71.0, 81.0, 74.0, 76.0, 78.0, 82.0, 67.0, 85.0, 73.0, 88.0, 77.0, 79.0, 80.0, 66.0, 84.0],\n",
    "    'Humidity': [85.0, 90.0, 78.0, 96.0, 80.0, 70.0, 65.0, 95.0, 70.0, 80.0, 70.0, 90.0, 75.0, 80.0, 88.0, 92.0, 85.0, 75.0, 92.0, 90.0, 85.0, 88.0, 65.0, 70.0, 60.0, 95.0, 70.0, 78.0],\n",
    "    'Wind': [False, True, False, False, False, True, True, False, False, False, True, True, False, True, True, False, False, True, False, True, True, False, True, False, False, True, False, False],\n",
    "    'Num_Players': [52,39,43,37,28,19,43,47,56,33,49,23,42,13,33,29,25,51,41,14,34,29,49,36,57,21,23,41]\n",
    "}\n",
    "\n",
    "df = pd.DataFrame(dataset_dict)\n",
    "\n",
    "# One-hot encode 'Outlook' column\n",
    "df = pd.get_dummies(df, columns=['Outlook'], prefix='', prefix_sep='', dtype=int)\n",
    "\n",
    "# Convert 'Wind' column to binary\n",
    "df['Wind'] = df['Wind'].astype(int)\n",
    "\n",
    "# Split data into features and target, then into training and test sets\n",
    "X, y = df.drop(columns='Num_Players'), df['Num_Players']\n",
    "X_train, X_test, y_train, y_test = train_test_split(X, y, train_size=0.5, shuffle=False)\n",
    "\n",
    "# Initialize Decision Tree Regressor\n",
    "tree = DecisionTreeRegressor(random_state=42)\n",
    "\n",
    "# Get the cost complexity path, impurities, and effective alpha\n",
    "path = tree.cost_complexity_pruning_path(X_train, y_train)\n",
    "ccp_alphas, impurities = path.ccp_alphas, path.impurities\n",
    "print(ccp_alphas)\n",
    "print(impurities)\n",
    "\n",
    "scaler = StandardScaler()\n",
    "\n",
    "X_train_scaled = scaler.fit_transform(X_train)\n",
    "\n",
    "X_test_scaled = scaler.transform(X_test)\n",
    "# Train the final tree with the chosen alpha\n",
    "final_tree = DecisionTreeRegressor(random_state=42, ccp_alpha=0.1)\n",
    "final_tree.fit(X_train_scaled, y_train)\n",
    "\n",
    "# Make predictions\n",
    "y_pred = final_tree.predict(X_test_scaled)\n",
    "\n",
    "print(f\"{final_tree.score(X_test_scaled, y_test)*100} %\")\n",
    "\n",
    "# Calculate and print RMSE\n",
    "rmse = root_mean_squared_error(y_test, y_pred)\n",
    "print(f\"RMSE: {rmse:.4f}\")"
   ]
  }
 ],
 "metadata": {
  "kernelspec": {
   "display_name": "venv",
   "language": "python",
   "name": "python3"
  },
  "language_info": {
   "codemirror_mode": {
    "name": "ipython",
    "version": 3
   },
   "file_extension": ".py",
   "mimetype": "text/x-python",
   "name": "python",
   "nbconvert_exporter": "python",
   "pygments_lexer": "ipython3",
   "version": "3.13.2"
  }
 },
 "nbformat": 4,
 "nbformat_minor": 5
}
